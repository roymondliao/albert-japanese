{
 "cells": [
  {
   "cell_type": "markdown",
   "id": "saved-compilation",
   "metadata": {},
   "source": [
    "# Use the notebook at the Colab.\n"
   ]
  },
  {
   "cell_type": "code",
   "execution_count": null,
   "id": "agreed-source",
   "metadata": {},
   "outputs": [],
   "source": [
    "%tensorflow_version 1.x"
   ]
  },
  {
   "cell_type": "code",
   "execution_count": null,
   "id": "forward-singles",
   "metadata": {},
   "outputs": [],
   "source": [
    "!pip install pendulum -q"
   ]
  },
  {
   "cell_type": "code",
   "execution_count": null,
   "id": "excessive-matrix",
   "metadata": {},
   "outputs": [],
   "source": [
    "import tensorflow as tf\n",
    "tf.__version__"
   ]
  },
  {
   "cell_type": "code",
   "execution_count": null,
   "id": "elect-geometry",
   "metadata": {},
   "outputs": [],
   "source": [
    "!git clone --recursive https://github.com/roymondliao/albert-japanese.git"
   ]
  },
  {
   "cell_type": "code",
   "execution_count": null,
   "id": "affected-movie",
   "metadata": {},
   "outputs": [],
   "source": [
    "!git clone https://github.com/brightmart/albert_zh.git"
   ]
  },
  {
   "cell_type": "markdown",
   "id": "weird-figure",
   "metadata": {},
   "source": [
    "## Auth GCP account"
   ]
  },
  {
   "cell_type": "code",
   "execution_count": null,
   "id": "vietnamese-stephen",
   "metadata": {},
   "outputs": [],
   "source": [
    "from google.colab import auth\n",
    "auth.authenticate_user()\n",
    "\n",
    "project_id = \"<your gcp project id>\"\"\n",
    "!gcloud config set project {project_id}\n"
   ]
  },
  {
   "cell_type": "code",
   "execution_count": null,
   "id": "fresh-sunday",
   "metadata": {},
   "outputs": [],
   "source": [
    "MAX_SEQ_LEN = 512\n",
    "INPUT_DATA_GCS = \"<input data source from gcs>\""
   ]
  },
  {
   "cell_type": "code",
   "execution_count": null,
   "id": "affiliated-triumph",
   "metadata": {},
   "outputs": [],
   "source": [
    "TARGET_DIRS = [\n",
    "  'AA',\n",
    "  'AB',\n",
    "  'AC',\n",
    "  'AD',\n",
    "  'AE',\n",
    "  'AF',\n",
    "  'AG',\n",
    "  'AH',\n",
    "  'AI',\n",
    "  'AJ',\n",
    "  'AK',\n",
    "  'AL',\n",
    "  'AM',\n",
    "  'AN',\n",
    "  'AO',\n",
    "  'AP',\n",
    "  'AQ',\n",
    "  'AR',\n",
    "  'AS',\n",
    "  'AT',\n",
    "  'AU',\n",
    "  'AV',\n",
    "  'AW',\n",
    "  'AX',\n",
    "  'AY',\n",
    "  'AZ',\n",
    "  'BA',\n",
    "  'BB',\n",
    "  'BC',\n",
    "]"
   ]
  },
  {
   "cell_type": "code",
   "execution_count": null,
   "id": "upset-restaurant",
   "metadata": {},
   "outputs": [],
   "source": [
    "INPUT_FILE = ','.join(['{}/all-maxseq{}_{}.tfrecord'.format(INPUT_DATA_GCS, MAX_SEQ_LEN, elem) for elem in TARGET_DIRS])\n",
    "INPUT_FILE"
   ]
  },
  {
   "cell_type": "markdown",
   "id": "smooth-ballet",
   "metadata": {},
   "source": [
    "## Check TPU devices"
   ]
  },
  {
   "cell_type": "code",
   "execution_count": null,
   "id": "fabulous-metabolism",
   "metadata": {},
   "outputs": [],
   "source": [
    "import datetime\n",
    "import time\n",
    "import json\n",
    "import os\n",
    "import pprint\n",
    "import random\n",
    "import string\n",
    "import pendulum\n",
    "import sys\n",
    "import tensorflow as tf\n",
    "\n",
    "assert 'COLAB_TPU_ADDR' in os.environ, 'ERROR: Not connected to a TPU runtime; please see the first cell in this notebook for instructions!'\n",
    "TPU_ADDRESS = 'grpc://' + os.environ['COLAB_TPU_ADDR']\n",
    "print('TPU address is', TPU_ADDRESS)\n",
    "\n",
    "with tf.Session(TPU_ADDRESS) as session:\n",
    "  print('TPU devices:')\n",
    "  pprint.pprint(session.list_devices())\n",
    "\n",
    "  # Upload credentials to TPU.\n",
    "  with open('/content/adc.json', 'r') as f:\n",
    "    auth_info = json.load(f)\n",
    "  tf.contrib.cloud.configure_gcs(session, credentials=auth_info)\n",
    "  # Now credentials are set for all future sessions on this TPU.\n",
    "  "
   ]
  },
  {
   "cell_type": "code",
   "execution_count": null,
   "id": "black-employer",
   "metadata": {},
   "outputs": [],
   "source": [
    "run_id = 'checkpoint_{}'.format(pendulum.now(\"Asia/Taipei\").format(\"YYYYMMDDHHMMSS\"))\n",
    "run_id"
   ]
  },
  {
   "cell_type": "code",
   "execution_count": null,
   "id": "distant-continent",
   "metadata": {},
   "outputs": [],
   "source": [
    "OUTPUT_GCS = \"<output destination>\" + '/' + run_id\n",
    "EXPORT_GCS = \"<save model path>\"\n",
    "start_time = time.time()"
   ]
  },
  {
   "cell_type": "code",
   "execution_count": null,
   "id": "appropriate-relations",
   "metadata": {},
   "outputs": [],
   "source": [
    "!python3 ./albert_zh/run_pretraining_google.py \\\n",
    "--input_file={INPUT_FILE} \\\n",
    "--eval_batch_size=256 \\\n",
    "--output_dir={OUTPUT_GCS} \\\n",
    "--do_train=True \\\n",
    "--do_eval=True \\\n",
    "--albert_config_file=./albert-japanese/models_config/albert_tiny_jp_v2.json  \\\n",
    "--export_dir={EXPORT_GCS} \\\n",
    "--train_batch_size=512 \\\n",
    "--max_seq_length=512 \\\n",
    "--max_predictions_per_seq=20 \\\n",
    "--num_train_steps=250000 \\\n",
    "--num_warmup_steps=25000 \\\n",
    "--learning_rate=0.00176 \\\n",
    "--save_checkpoints_steps=5000 \\\n",
    "--use_tpu=True \\\n",
    "--tpu_name={TPU_ADDRESS} \\\n",
    "--num_tpu_cores=8\n"
   ]
  },
  {
   "cell_type": "code",
   "execution_count": null,
   "id": "confirmed-secretary",
   "metadata": {},
   "outputs": [],
   "source": [
    "end_time = time.time()\n",
    "execution_time = end_time - start_time\n",
    "print(f\"Execution time: {execution_time / 60 / 60}\")\n"
   ]
  },
  {
   "cell_type": "code",
   "execution_count": null,
   "id": "removable-wallet",
   "metadata": {},
   "outputs": [],
   "source": [
    "import os\n",
    "from tensorflow.python.profiler import profiler_client\n",
    "\n",
    "tpu_profile_service_address = os.environ['COLAB_TPU_ADDR'].replace('8470', '8466')\n",
    "print(profiler_client.monitor(tpu_profile_service_address, 100, 2))"
   ]
  }
 ],
 "metadata": {
  "environment": {
   "name": "tf2-gpu.2-4.m65",
   "type": "gcloud",
   "uri": "gcr.io/deeplearning-platform-release/tf2-gpu.2-4:m65"
  },
  "kernelspec": {
   "display_name": "Python 3",
   "language": "python",
   "name": "python3"
  },
  "language_info": {
   "codemirror_mode": {
    "name": "ipython",
    "version": 3
   },
   "file_extension": ".py",
   "mimetype": "text/x-python",
   "name": "python",
   "nbconvert_exporter": "python",
   "pygments_lexer": "ipython3",
   "version": "3.7.10"
  }
 },
 "nbformat": 4,
 "nbformat_minor": 5
}
